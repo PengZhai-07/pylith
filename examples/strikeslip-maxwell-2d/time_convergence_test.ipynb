{
 "cells": [
  {
   "cell_type": "code",
   "execution_count": null,
   "id": "bb44d753",
   "metadata": {},
   "outputs": [],
   "source": [
    "# Timestep convergence test with the same spatial resolution (coarse mesh: refine_level=1) and different timestep length\n",
    "# plot the convergence curve: F-distance vs timestep length\n",
    "\n",
    "# created by peng zhai in Jun 4th, 2025\n",
    "import subprocess\n",
    "import os\n",
    "import time\n",
    "import h5py\n",
    "import numpy as np\n",
    "import copy\n",
    "import matplotlib.pyplot as plt\n",
    "from scipy.interpolate import griddata\n",
    "\n",
    "# 200 s\n",
    "def execute_and_log_command(command, log_file):\n",
    "    with open(log_file, 'w') as log:\n",
    "        log.write(f\"Executing: {command}\\n\")\n",
    "        try:\n",
    "            result = subprocess.run(command, shell=True, check=True, text=True, capture_output=True)\n",
    "            \n",
    "            # Log the output and errors\n",
    "            log.write(\"Output:\\n\")\n",
    "            log.write(result.stdout)\n",
    "            log.write(\"Error (if any):\\n\")\n",
    "            log.write(result.stderr)\n",
    "        except subprocess.CalledProcessError as e:\n",
    "            # Log the error details\n",
    "            log.write(f\"An error occurred while executing: {command}\\n\")\n",
    "            log.write(f\"Return Code: {e.returncode}\\n\")\n",
    "            log.write(\"Output:\\n\")\n",
    "            log.write(e.stdout)\n",
    "            log.write(\"Error Message:\\n\")\n",
    "            log.write(e.stderr)\n",
    "        \n",
    "        log.write('-' * 40 + '\\n')  # Separator for readability\n",
    "\n",
    "def frobenius_distance(matrix1, matrix2):\n",
    "    \"\"\"Calculates the Frobenius norm distance between two matrices.\"\"\"\n",
    "    matrix1 = np.array(matrix1)\n",
    "    matrix2 = np.array(matrix2)\n",
    "    if matrix1.shape != matrix2.shape:\n",
    "      raise ValueError(\"Matrices must have the same shape\")\n",
    "    \n",
    "    diff = matrix1 - matrix2\n",
    "    distance = np.linalg.norm(diff, 'fro')\n",
    "    return distance    "
   ]
  },
  {
   "cell_type": "code",
   "execution_count": 69,
   "id": "f1cf6f0a",
   "metadata": {},
   "outputs": [
    {
     "name": "stdout",
     "output_type": "stream",
     "text": [
      "[ 0.1         0.31622777  1.          3.16227766 10.         31.6227766 ]\n",
      "['pylith step01a_slip_ts.cfg --timedependent.initial_dt=0.1*year --timedependent.start_time=-0.1*year --petsc.log_view=ascii:./perf_ts/1.txt', 'pylith step01a_slip_ts.cfg --timedependent.initial_dt=0.31622776601683794*year --timedependent.start_time=-0.31622776601683794*year --petsc.log_view=ascii:./perf_ts/2.txt', 'pylith step01a_slip_ts.cfg --timedependent.initial_dt=1.0*year --timedependent.start_time=-1.0*year --petsc.log_view=ascii:./perf_ts/3.txt', 'pylith step01a_slip_ts.cfg --timedependent.initial_dt=3.1622776601683795*year --timedependent.start_time=-3.1622776601683795*year --petsc.log_view=ascii:./perf_ts/4.txt', 'pylith step01a_slip_ts.cfg --timedependent.initial_dt=10.0*year --timedependent.start_time=-10.0*year --petsc.log_view=ascii:./perf_ts/5.txt', 'pylith step01a_slip_ts.cfg --timedependent.initial_dt=31.622776601683793*year --timedependent.start_time=-31.622776601683793*year --petsc.log_view=ascii:./perf_ts/6.txt']\n"
     ]
    }
   ],
   "source": [
    "# def main():\n",
    "\n",
    "start_time = time.perf_counter()\n",
    "\n",
    "log_view_dir = 'perf_ts'\n",
    "os.makedirs(log_view_dir, exist_ok=True)\n",
    "# List of Linux commands to execute\n",
    "\n",
    "# Create a directory for logs if it doesn't exist\n",
    "log_screen_dir = 'command_logs_constant_ts'\n",
    "os.makedirs(log_screen_dir, exist_ok=True)\n",
    "\n",
    "# the default solver is euler without adaptive timesteps\n",
    "# the first one has the highest resolution\n",
    "\n",
    "timestep = 10**np.arange(-1,2, 0.5)\n",
    "print(timestep)\n",
    "commands = []\n",
    "\n",
    "for i in range(len(timestep)):\n",
    "    commands.append(\"pylith step01a_slip_ts.cfg --timedependent.initial_dt=\"+ str(timestep[i]) +\"*year --timedependent.start_time=-\"+ str(timestep[i]) +\"*year --petsc.log_view=ascii:./\" + log_view_dir + \"/\" + str(i+1) +\".txt\", )\n",
    "\n",
    "print(commands)\n",
    "\n",
    "# commands = [\n",
    "\n",
    "#     \"pylith step01a_slip_ts.cfg --timedependent.initial_dt=0.05*year --timedependent.start_time=-0.2*year --petsc.log_view=ascii:./\" + log_view_dir + \"/1.txt\",  \n",
    "#     \"pylith step01a_slip_ts.cfg --timedependent.initial_dt=0.2*year --timedependent.start_time=-0.2*year --petsc.log_view=ascii:./\" + log_view_dir + \"/2.txt\",  \n",
    "#     \"pylith step01a_slip_ts.cfg --timedependent.initial_dt=1.0*year --timedependent.start_time=-1.0*year --petsc.log_view=ascii:./\" + log_view_dir + \"/3.txt\",  \n",
    "#     \"pylith step01a_slip_ts.cfg --timedependent.initial_dt=5.0*year --timedependent.start_time=-5.0*year --petsc.log_view=ascii:./\" + log_view_dir + \"/4.txt\",  \n",
    "#     \"pylith step01a_slip_ts.cfg --timedependent.initial_dt=10.0*year --timedependent.start_time=-10.0*year --petsc.log_view=ascii:./\" + log_view_dir + \"/5.txt\",  \n",
    "\n",
    "# ]\n",
    "\n",
    "# Execute each command and log to separate files\n",
    "\n",
    "# # load the baseline data (high resolution)\n",
    "# filename = \"output_baseline_convergece/step01a_slip_ts-domain.h5\"\n",
    "# with h5py.File(filename, \"r\") as f:\n",
    "\n",
    "#     vertex_fields = list(f.keys())[2]\n",
    "\n",
    "#     displacement = list(f[vertex_fields])[0]    # data name in the group\n",
    "#     data_tmp = f[vertex_fields][displacement]\n",
    "#     data_baseline = np.squeeze(data_tmp[-1,:,:])\n",
    "\n",
    "#     # print(f'Baseline model: Total timestep:', {data_baseline.shape[0]}, 'Total nodes' , {data_baseline.shape[1]},'d.o.f.' , {data_baseline.shape[2]} ) \n",
    "\n",
    "#     # spatial location\n",
    "#     geometry = list(f.keys())[0]\n",
    "#     vertices = list(f[geometry])[0]    # data name in the group\n",
    "#     xz_baseline_tmp = f[geometry][vertices]  # 2*2\n",
    "#     xz_baseline = xz_baseline_tmp[:,:]\n"
   ]
  },
  {
   "cell_type": "code",
   "execution_count": null,
   "id": "53016a54",
   "metadata": {},
   "outputs": [
    {
     "name": "stdout",
     "output_type": "stream",
     "text": [
      "pylith step01a_slip_ts.cfg --timedependent.initial_dt=0.1*year --timedependent.start_time=-0.1*year --petsc.log_view=ascii:./perf_ts/1.txt\n"
     ]
    },
    {
     "ename": "KeyboardInterrupt",
     "evalue": "",
     "output_type": "error",
     "traceback": [
      "\u001b[31m---------------------------------------------------------------------------\u001b[39m",
      "\u001b[31mKeyboardInterrupt\u001b[39m                         Traceback (most recent call last)",
      "\u001b[36mCell\u001b[39m\u001b[36m \u001b[39m\u001b[32mIn[70]\u001b[39m\u001b[32m, line 7\u001b[39m\n\u001b[32m      5\u001b[39m log_file = os.path.join(log_screen_dir, \u001b[33mf\u001b[39m\u001b[33m\"\u001b[39m\u001b[33mcommand_log_\u001b[39m\u001b[38;5;132;01m{\u001b[39;00mi\u001b[38;5;132;01m}\u001b[39;00m\u001b[33m.txt\u001b[39m\u001b[33m\"\u001b[39m)\n\u001b[32m      6\u001b[39m \u001b[38;5;28mprint\u001b[39m(command)\n\u001b[32m----> \u001b[39m\u001b[32m7\u001b[39m \u001b[43mexecute_and_log_command\u001b[49m\u001b[43m(\u001b[49m\u001b[43mcommand\u001b[49m\u001b[43m,\u001b[49m\u001b[43m \u001b[49m\u001b[43mlog_file\u001b[49m\u001b[43m)\u001b[49m\n\u001b[32m      9\u001b[39m filename = \u001b[33m\"\u001b[39m\u001b[33moutput/step01a_slip_ts-domain.h5\u001b[39m\u001b[33m\"\u001b[39m\n\u001b[32m     11\u001b[39m \u001b[38;5;28;01mwith\u001b[39;00m h5py.File(filename, \u001b[33m\"\u001b[39m\u001b[33mr\u001b[39m\u001b[33m\"\u001b[39m) \u001b[38;5;28;01mas\u001b[39;00m f:\n\u001b[32m     12\u001b[39m     \u001b[38;5;66;03m# Print all root level object names (aka keys) \u001b[39;00m\n\u001b[32m     13\u001b[39m     \u001b[38;5;66;03m# these can be group or dataset names \u001b[39;00m\n\u001b[32m     14\u001b[39m     \u001b[38;5;66;03m# print(\"Keys: %s\" % f.keys())\u001b[39;00m\n\u001b[32m     15\u001b[39m     \u001b[38;5;66;03m# get first object name/key; may or may NOT be a group\u001b[39;00m\n",
      "\u001b[36mCell\u001b[39m\u001b[36m \u001b[39m\u001b[32mIn[68]\u001b[39m\u001b[32m, line 20\u001b[39m, in \u001b[36mexecute_and_log_command\u001b[39m\u001b[34m(command, log_file)\u001b[39m\n\u001b[32m     18\u001b[39m log.write(\u001b[33mf\u001b[39m\u001b[33m\"\u001b[39m\u001b[33mExecuting: \u001b[39m\u001b[38;5;132;01m{\u001b[39;00mcommand\u001b[38;5;132;01m}\u001b[39;00m\u001b[38;5;130;01m\\n\u001b[39;00m\u001b[33m\"\u001b[39m)\n\u001b[32m     19\u001b[39m \u001b[38;5;28;01mtry\u001b[39;00m:\n\u001b[32m---> \u001b[39m\u001b[32m20\u001b[39m     result = \u001b[43msubprocess\u001b[49m\u001b[43m.\u001b[49m\u001b[43mrun\u001b[49m\u001b[43m(\u001b[49m\u001b[43mcommand\u001b[49m\u001b[43m,\u001b[49m\u001b[43m \u001b[49m\u001b[43mshell\u001b[49m\u001b[43m=\u001b[49m\u001b[38;5;28;43;01mTrue\u001b[39;49;00m\u001b[43m,\u001b[49m\u001b[43m \u001b[49m\u001b[43mcheck\u001b[49m\u001b[43m=\u001b[49m\u001b[38;5;28;43;01mTrue\u001b[39;49;00m\u001b[43m,\u001b[49m\u001b[43m \u001b[49m\u001b[43mtext\u001b[49m\u001b[43m=\u001b[49m\u001b[38;5;28;43;01mTrue\u001b[39;49;00m\u001b[43m,\u001b[49m\u001b[43m \u001b[49m\u001b[43mcapture_output\u001b[49m\u001b[43m=\u001b[49m\u001b[38;5;28;43;01mTrue\u001b[39;49;00m\u001b[43m)\u001b[49m\n\u001b[32m     22\u001b[39m     \u001b[38;5;66;03m# Log the output and errors\u001b[39;00m\n\u001b[32m     23\u001b[39m     log.write(\u001b[33m\"\u001b[39m\u001b[33mOutput:\u001b[39m\u001b[38;5;130;01m\\n\u001b[39;00m\u001b[33m\"\u001b[39m)\n",
      "\u001b[36mFile \u001b[39m\u001b[32m/usr/lib/python3.12/subprocess.py:550\u001b[39m, in \u001b[36mrun\u001b[39m\u001b[34m(input, capture_output, timeout, check, *popenargs, **kwargs)\u001b[39m\n\u001b[32m    548\u001b[39m \u001b[38;5;28;01mwith\u001b[39;00m Popen(*popenargs, **kwargs) \u001b[38;5;28;01mas\u001b[39;00m process:\n\u001b[32m    549\u001b[39m     \u001b[38;5;28;01mtry\u001b[39;00m:\n\u001b[32m--> \u001b[39m\u001b[32m550\u001b[39m         stdout, stderr = \u001b[43mprocess\u001b[49m\u001b[43m.\u001b[49m\u001b[43mcommunicate\u001b[49m\u001b[43m(\u001b[49m\u001b[38;5;28;43minput\u001b[39;49m\u001b[43m,\u001b[49m\u001b[43m \u001b[49m\u001b[43mtimeout\u001b[49m\u001b[43m=\u001b[49m\u001b[43mtimeout\u001b[49m\u001b[43m)\u001b[49m\n\u001b[32m    551\u001b[39m     \u001b[38;5;28;01mexcept\u001b[39;00m TimeoutExpired \u001b[38;5;28;01mas\u001b[39;00m exc:\n\u001b[32m    552\u001b[39m         process.kill()\n",
      "\u001b[36mFile \u001b[39m\u001b[32m/usr/lib/python3.12/subprocess.py:1209\u001b[39m, in \u001b[36mPopen.communicate\u001b[39m\u001b[34m(self, input, timeout)\u001b[39m\n\u001b[32m   1206\u001b[39m     endtime = \u001b[38;5;28;01mNone\u001b[39;00m\n\u001b[32m   1208\u001b[39m \u001b[38;5;28;01mtry\u001b[39;00m:\n\u001b[32m-> \u001b[39m\u001b[32m1209\u001b[39m     stdout, stderr = \u001b[38;5;28;43mself\u001b[39;49m\u001b[43m.\u001b[49m\u001b[43m_communicate\u001b[49m\u001b[43m(\u001b[49m\u001b[38;5;28;43minput\u001b[39;49m\u001b[43m,\u001b[49m\u001b[43m \u001b[49m\u001b[43mendtime\u001b[49m\u001b[43m,\u001b[49m\u001b[43m \u001b[49m\u001b[43mtimeout\u001b[49m\u001b[43m)\u001b[49m\n\u001b[32m   1210\u001b[39m \u001b[38;5;28;01mexcept\u001b[39;00m \u001b[38;5;167;01mKeyboardInterrupt\u001b[39;00m:\n\u001b[32m   1211\u001b[39m     \u001b[38;5;66;03m# https://bugs.python.org/issue25942\u001b[39;00m\n\u001b[32m   1212\u001b[39m     \u001b[38;5;66;03m# See the detailed comment in .wait().\u001b[39;00m\n\u001b[32m   1213\u001b[39m     \u001b[38;5;28;01mif\u001b[39;00m timeout \u001b[38;5;129;01mis\u001b[39;00m \u001b[38;5;129;01mnot\u001b[39;00m \u001b[38;5;28;01mNone\u001b[39;00m:\n",
      "\u001b[36mFile \u001b[39m\u001b[32m/usr/lib/python3.12/subprocess.py:2115\u001b[39m, in \u001b[36mPopen._communicate\u001b[39m\u001b[34m(self, input, endtime, orig_timeout)\u001b[39m\n\u001b[32m   2108\u001b[39m     \u001b[38;5;28mself\u001b[39m._check_timeout(endtime, orig_timeout,\n\u001b[32m   2109\u001b[39m                         stdout, stderr,\n\u001b[32m   2110\u001b[39m                         skip_check_and_raise=\u001b[38;5;28;01mTrue\u001b[39;00m)\n\u001b[32m   2111\u001b[39m     \u001b[38;5;28;01mraise\u001b[39;00m \u001b[38;5;167;01mRuntimeError\u001b[39;00m(  \u001b[38;5;66;03m# Impossible :)\u001b[39;00m\n\u001b[32m   2112\u001b[39m         \u001b[33m'\u001b[39m\u001b[33m_check_timeout(..., skip_check_and_raise=True) \u001b[39m\u001b[33m'\u001b[39m\n\u001b[32m   2113\u001b[39m         \u001b[33m'\u001b[39m\u001b[33mfailed to raise TimeoutExpired.\u001b[39m\u001b[33m'\u001b[39m)\n\u001b[32m-> \u001b[39m\u001b[32m2115\u001b[39m ready = \u001b[43mselector\u001b[49m\u001b[43m.\u001b[49m\u001b[43mselect\u001b[49m\u001b[43m(\u001b[49m\u001b[43mtimeout\u001b[49m\u001b[43m)\u001b[49m\n\u001b[32m   2116\u001b[39m \u001b[38;5;28mself\u001b[39m._check_timeout(endtime, orig_timeout, stdout, stderr)\n\u001b[32m   2118\u001b[39m \u001b[38;5;66;03m# XXX Rewrite these to use non-blocking I/O on the file\u001b[39;00m\n\u001b[32m   2119\u001b[39m \u001b[38;5;66;03m# objects; they are no longer using C stdio!\u001b[39;00m\n",
      "\u001b[36mFile \u001b[39m\u001b[32m/usr/lib/python3.12/selectors.py:415\u001b[39m, in \u001b[36m_PollLikeSelector.select\u001b[39m\u001b[34m(self, timeout)\u001b[39m\n\u001b[32m    413\u001b[39m ready = []\n\u001b[32m    414\u001b[39m \u001b[38;5;28;01mtry\u001b[39;00m:\n\u001b[32m--> \u001b[39m\u001b[32m415\u001b[39m     fd_event_list = \u001b[38;5;28;43mself\u001b[39;49m\u001b[43m.\u001b[49m\u001b[43m_selector\u001b[49m\u001b[43m.\u001b[49m\u001b[43mpoll\u001b[49m\u001b[43m(\u001b[49m\u001b[43mtimeout\u001b[49m\u001b[43m)\u001b[49m\n\u001b[32m    416\u001b[39m \u001b[38;5;28;01mexcept\u001b[39;00m \u001b[38;5;167;01mInterruptedError\u001b[39;00m:\n\u001b[32m    417\u001b[39m     \u001b[38;5;28;01mreturn\u001b[39;00m ready\n",
      "\u001b[31mKeyboardInterrupt\u001b[39m: "
     ]
    }
   ],
   "source": [
    "N = len(commands)\n",
    "distance = np.zeros(N)\n",
    "\n",
    "for i, command in enumerate(commands, 1):\n",
    "    log_file = os.path.join(log_screen_dir, f\"command_log_{i}.txt\")\n",
    "    print(command)\n",
    "    execute_and_log_command(command, log_file)\n",
    "        \n",
    "    filename = \"output/step01a_slip_ts-domain.h5\"\n",
    "    \n",
    "    with h5py.File(filename, \"r\") as f:\n",
    "        # Print all root level object names (aka keys) \n",
    "        # these can be group or dataset names \n",
    "        # print(\"Keys: %s\" % f.keys())\n",
    "        # get first object name/key; may or may NOT be a group\n",
    "        vertex_fields = list(f.keys())[2]\n",
    "        displacement = list(f[vertex_fields])[0]    # data name in the group\n",
    "        data_tmp = f[vertex_fields][displacement]\n",
    "        data = np.squeeze(data_tmp[-1,:,:])    # 2D \n",
    "        # print(f'Total timestep:', {data.shape[0]}, 'Total nodes' , {data.shape[1]},'d.o.f.' , {data.shape[2]} ) \n",
    "        # print(data.dtype)\n",
    "        # spatial location\n",
    "        geometry = list(f.keys())[0]\n",
    "        vertices = list(f[geometry])[0]    # data name in the group\n",
    "        xz_tmp = f[geometry][vertices]      # 2D  \n",
    "        xz = xz_tmp[:,:]\n",
    "\n",
    "    if i == 1:     # save the baseline model\n",
    "        data_baseline = data\n",
    "    else:       # compare other low-res results with the baseline model of high resolution\n",
    "        # print(xz.dtype)\n",
    "        # upsampling (interpolation) the final solution field to the high res results\n",
    "        # data -> data_upsample   \n",
    "        # data_upsample = data_upsample_tmp[:,:]\n",
    "\n",
    "        # data_upsample_x = griddata(xz, data[:,0], xz_baseline, method='cubic')\n",
    "        # data_upsample_y = griddata(xz, data[:,1], xz_baseline, method='cubic')\n",
    "        # # print(data_upsample_x.shape)\n",
    "        # # print(data_upsample_y.shape)\n",
    "\n",
    "        # data_upsample = np.vstack((data_upsample_x, data_upsample_y)).T     # 12298*2\n",
    "\n",
    "        # print(data_upsample.shape)\n",
    "        distance[i-1] = frobenius_distance(data_baseline, data)\n",
    "                        \n",
    "print(\"The frobenius-distance is: \" + str(distance))\n",
    "end_time = time.perf_counter()\n",
    "elapsed_time = end_time - start_time\n",
    "print(f\"Elapsed time: {elapsed_time:.6f} seconds\")\n",
    "print(f\"Commands have been executed and logs are saved in '{log_screen_dir}' directory\")\n",
    "\n"
   ]
  },
  {
   "cell_type": "code",
   "execution_count": null,
   "id": "10772790",
   "metadata": {},
   "outputs": [],
   "source": []
  },
  {
   "cell_type": "code",
   "execution_count": null,
   "id": "892a83b7",
   "metadata": {},
   "outputs": [
    {
     "name": "stderr",
     "output_type": "stream",
     "text": [
      "/tmp/ipykernel_18902/903389723.py:8: UserWarning: No artists with labels found to put in legend.  Note that artists whose label start with an underscore are ignored when legend() is called with no argument.\n",
      "  ax.legend()\n"
     ]
    },
    {
     "data": {
      "image/png": "[encoded data removed]",
      "text/plain": [
       "<Figure size 640x480 with 1 Axes>"
      ]
     },
     "metadata": {},
     "output_type": "display_data"
    }
   ],
   "source": [
    "np.save('distance_time_convergence.npy', timestep, distance)\n",
    "\n",
    "# Data for plotting\n",
    "fig, ax = plt.subplots()\n",
    "ax.plot(timestep, distance, marker=\"o\")\n",
    "\n",
    "ax.set(xlabel='Timestep (years)', ylabel='F-distance', title='Timestep convergence test')\n",
    "ax.set_xscale('log')\n",
    "\n",
    "ax.legend()\n",
    "ax.grid()\n",
    "\n",
    "# fig.savefig(\"test.png\")\n",
    "plt.show()"
   ]
  }
 ],
 "metadata": {
  "kernelspec": {
   "display_name": "Python 3",
   "language": "python",
   "name": "python3"
  },
  "language_info": {
   "codemirror_mode": {
    "name": "ipython",
    "version": 3
   },
   "file_extension": ".py",
   "mimetype": "text/x-python",
   "name": "python",
   "nbconvert_exporter": "python",
   "pygments_lexer": "ipython3",
   "version": "3.12.3"
  }
 },
 "nbformat": 4,
 "nbformat_minor": 5
}
